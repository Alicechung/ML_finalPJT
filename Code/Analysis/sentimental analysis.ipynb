{
 "cells": [
  {
   "cell_type": "code",
   "execution_count": 1,
   "metadata": {
    "collapsed": false
   },
   "outputs": [],
   "source": [
    "import nltk\n",
    "#import sqlite3\n",
    "import re\n",
    "#import json\n",
    "from nltk import *\n",
    "from nltk.tag import *\n",
    "from nltk.corpus import stopwords\n",
    "from nltk.sentiment import *\n",
    "from nltk.classify import NaiveBayesClassifier\n",
    "from nltk.corpus import subjectivity\n",
    "from nltk.sentiment.util import *\n",
    "import pandas as pd"
   ]
  },
  {
   "cell_type": "code",
   "execution_count": 2,
   "metadata": {
    "collapsed": false
   },
   "outputs": [],
   "source": [
    "#nltk.download('vader_lexicon')"
   ]
  },
  {
   "cell_type": "code",
   "execution_count": 2,
   "metadata": {
    "collapsed": false
   },
   "outputs": [],
   "source": [
    "n_instances = 5000\n",
    "subj_docs = [(sent, 'subj') for sent\\\n",
    "             in subjectivity.sents(categories='subj')[:n_instances]]\n",
    "obj_docs = [(sent, 'obj') for sent\\\n",
    "            in subjectivity.sents(categories='obj')[:n_instances]]"
   ]
  },
  {
   "cell_type": "code",
   "execution_count": 3,
   "metadata": {
    "collapsed": false
   },
   "outputs": [],
   "source": [
    "train = int(n_instances * 0.8)\n",
    "test = int(n_instances * 0.2)"
   ]
  },
  {
   "cell_type": "code",
   "execution_count": 4,
   "metadata": {
    "collapsed": false
   },
   "outputs": [
    {
     "data": {
      "text/plain": [
       "4000"
      ]
     },
     "execution_count": 4,
     "metadata": {},
     "output_type": "execute_result"
    }
   ],
   "source": [
    "train"
   ]
  },
  {
   "cell_type": "code",
   "execution_count": 5,
   "metadata": {
    "collapsed": false
   },
   "outputs": [],
   "source": [
    "train_subj_docs = subj_docs[:train]\n",
    "test_subj_docs = subj_docs[test:]\n",
    "train_obj_docs = obj_docs[:train]\n",
    "test_obj_docs = obj_docs[test:]"
   ]
  },
  {
   "cell_type": "code",
   "execution_count": 6,
   "metadata": {
    "collapsed": true
   },
   "outputs": [],
   "source": [
    "training_docs = train_subj_docs+train_obj_docs\n",
    "testing_docs = test_subj_docs+test_obj_docs\n",
    "sentim_analyzer = SentimentAnalyzer()\n",
    "all_words_neg = sentim_analyzer.all_words([mark_negation(doc)\\\n",
    "                                           for doc in training_docs])"
   ]
  },
  {
   "cell_type": "code",
   "execution_count": 7,
   "metadata": {
    "collapsed": true
   },
   "outputs": [],
   "source": [
    "unigram_feats = sentim_analyzer.unigram_word_feats(all_words_neg,\n",
    "                                                   min_freq=4)"
   ]
  },
  {
   "cell_type": "code",
   "execution_count": 8,
   "metadata": {
    "collapsed": false
   },
   "outputs": [],
   "source": [
    "#unigram_feats"
   ]
  },
  {
   "cell_type": "code",
   "execution_count": 9,
   "metadata": {
    "collapsed": false
   },
   "outputs": [
    {
     "name": "stdout",
     "output_type": "stream",
     "text": [
      "Training classifier\n"
     ]
    }
   ],
   "source": [
    "training_set = sentim_analyzer.apply_features(training_docs)\n",
    "test_set = sentim_analyzer.apply_features(testing_docs)\n",
    "trainer = NaiveBayesClassifier.train\n",
    "classifier = sentim_analyzer.train(trainer, training_set)\n",
    "sid = SentimentIntensityAnalyzer()"
   ]
  },
  {
   "cell_type": "code",
   "execution_count": 18,
   "metadata": {
    "collapsed": true
   },
   "outputs": [],
   "source": [
    "TRACETOPIC = ['trade',\n",
    " 'labor',\n",
    " 'nafta',\n",
    " 'agreement',\n",
    " 'union',\n",
    " 'manufactur',\n",
    " 'worker',\n",
    " 'china',\n",
    " 'wage',\n",
    " 'plant',\n",
    " 'corpor',\n",
    " 'canada',\n",
    " 'play',\n",
    " 'bargain',\n",
    " 'unfair']"
   ]
  },
  {
   "cell_type": "code",
   "execution_count": 14,
   "metadata": {
    "collapsed": true
   },
   "outputs": [],
   "source": [
    "ls = ['trade', 'labor', 'worker', 'agreement', 'union', 'nafta', 'china', 'manufactur', 'play', 'plant', 'outsourc', 'wage',\n",
    "'steel', 'organ', 'green','trade', 'agreement', 'nafta', 'worker', 'manufactur', \n",
    " 'china', 'labor', 'deal', 'union', 'plant', 'green', 'steel', 'interest', 'special', 'oversea' ]"
   ]
  },
  {
   "cell_type": "code",
   "execution_count": 15,
   "metadata": {
    "collapsed": true
   },
   "outputs": [],
   "source": [
    "topic = set(ls)"
   ]
  },
  {
   "cell_type": "code",
   "execution_count": 17,
   "metadata": {
    "collapsed": false
   },
   "outputs": [],
   "source": [
    "#topic"
   ]
  },
  {
   "cell_type": "code",
   "execution_count": 32,
   "metadata": {
    "collapsed": true
   },
   "outputs": [],
   "source": [
    "df = pd.read_csv('../../Data/alldf_w15_180306.csv')"
   ]
  },
  {
   "cell_type": "code",
   "execution_count": 36,
   "metadata": {
    "collapsed": false
   },
   "outputs": [],
   "source": [
    "df1 = pd.read_csv('../../Data/alldf_t100_frexscore_swing.csv')"
   ]
  },
  {
   "cell_type": "code",
   "execution_count": 40,
   "metadata": {
    "collapsed": false
   },
   "outputs": [],
   "source": [
    "df2 = df1.merge(df, on = ['Author','Year','No.','Date'])"
   ]
  },
  {
   "cell_type": "code",
   "execution_count": 42,
   "metadata": {
    "collapsed": false
   },
   "outputs": [],
   "source": [
    "#df2"
   ]
  },
  {
   "cell_type": "code",
   "execution_count": 60,
   "metadata": {
    "collapsed": false
   },
   "outputs": [],
   "source": [
    "rsw = df2[(df2['Rustbelt_x'] == 1)&(df2['swing'] ==1)].reset_index()\n",
    "rnsw = df2[(df2['Rustbelt_x'] == 1)&(df2['swing'] ==0)].reset_index()\n",
    "nrsw = df2[(df2['Rustbelt_x'] == 0)&(df2['swing'] ==1)].reset_index()\n",
    "nrnsw = df2[(df2['Rustbelt_x'] == 0)&(df2['swing'] ==0)].reset_index()"
   ]
  },
  {
   "cell_type": "code",
   "execution_count": 61,
   "metadata": {
    "collapsed": false
   },
   "outputs": [],
   "source": [
    "#rsw.shape"
   ]
  },
  {
   "cell_type": "code",
   "execution_count": 62,
   "metadata": {
    "collapsed": false
   },
   "outputs": [],
   "source": [
    "#df.loc[1064]['Clean']"
   ]
  },
  {
   "cell_type": "code",
   "execution_count": 130,
   "metadata": {
    "collapsed": false
   },
   "outputs": [],
   "source": [
    "commentls = df.loc[1064]['Clean'].split('. ')\n",
    "commentls1 = df.loc[62]['Clean'].split('. ')"
   ]
  },
  {
   "cell_type": "code",
   "execution_count": 132,
   "metadata": {
    "collapsed": false
   },
   "outputs": [],
   "source": [
    "#commentls1"
   ]
  },
  {
   "cell_type": "code",
   "execution_count": 102,
   "metadata": {
    "collapsed": true
   },
   "outputs": [],
   "source": [
    "def run_sentiment(comment):\n",
    "    commentls = comment.split('. ')\n",
    "    neg_list = []\n",
    "    pos_list = []\n",
    "    num_sentence = 0\n",
    "    score_d = {}\n",
    "    negtradels = []\n",
    "    negnotradels = []\n",
    "    postradels = []\n",
    "    posnotradels = []\n",
    "    for i in range(len(commentls)):\n",
    "        num_sentence += 1\n",
    "        sentence = commentls[i]\n",
    "        ss = sid.polarity_scores(sentence)\n",
    "        score_d[num_sentence] = {'score':ss, 'sentence': sentence}\n",
    "\n",
    "        if ss['neg'] > ss['neu'] or ss['neg'] > ss['pos']:\n",
    "            neg_list.append(sentence)\n",
    "        else:\n",
    "            pos_list.append(sentence)\n",
    "            \n",
    "        negtradels = set()\n",
    "        negnotradels = set()  \n",
    "        for sent in neg_list:\n",
    "            for word in topic:\n",
    "                if word in sent:\n",
    "                    negtradels.add(sent)\n",
    "                    continue\n",
    "                else:\n",
    "                    negnotradels.add(sent)\n",
    "                    continue\n",
    "                    \n",
    "        postradels = set()\n",
    "        posnotradels = set()                   \n",
    "        for sent in pos_list:\n",
    "\n",
    "            for word in topic:\n",
    "                if word in sent:\n",
    "                    postradels.add(sent)\n",
    "                    continue\n",
    "                else:\n",
    "                    posnotradels.add(sent)\n",
    "                    continue\n",
    "    return (score_d, neg_list, pos_list, negtradels, negnotradels, postradels, posnotradels)    "
   ]
  },
  {
   "cell_type": "code",
   "execution_count": 103,
   "metadata": {
    "collapsed": false
   },
   "outputs": [],
   "source": [
    "#rust = pd.read_csv('../../Data/rust_frex_text.csv')"
   ]
  },
  {
   "cell_type": "code",
   "execution_count": 104,
   "metadata": {
    "collapsed": false
   },
   "outputs": [],
   "source": [
    "#rust"
   ]
  },
  {
   "cell_type": "code",
   "execution_count": 105,
   "metadata": {
    "collapsed": true
   },
   "outputs": [],
   "source": [
    "#norust = pd.read_csv('../../Data/norust_frex_text.csv')"
   ]
  },
  {
   "cell_type": "code",
   "execution_count": 106,
   "metadata": {
    "collapsed": false
   },
   "outputs": [],
   "source": [
    "#rsw['Clean_x']"
   ]
  },
  {
   "cell_type": "code",
   "execution_count": 107,
   "metadata": {
    "collapsed": false
   },
   "outputs": [],
   "source": [
    "dfls = []\n",
    "for i in range(len(rsw)):\n",
    "    result = run_sentiment(rsw['Clean_x'].loc[i])\n",
    "    dfls.append([list(result[3]),list(result[4]),list(result[5]),list(result[6])])    "
   ]
  },
  {
   "cell_type": "code",
   "execution_count": 108,
   "metadata": {
    "collapsed": false
   },
   "outputs": [],
   "source": [
    "rustsentdf = pd.DataFrame(dfls)"
   ]
  },
  {
   "cell_type": "code",
   "execution_count": 109,
   "metadata": {
    "collapsed": false
   },
   "outputs": [],
   "source": [
    "rustsentdf.rename(columns = {0:'neg_trade', 1:'neg_notrade', 2:'pos_trade', 3:'pos_notrade'},inplace = True)\n",
    "rust_sentiment = rsw.join(rustsentdf)"
   ]
  },
  {
   "cell_type": "code",
   "execution_count": 111,
   "metadata": {
    "collapsed": false
   },
   "outputs": [],
   "source": [
    "rust_sentiment2 = rust_sentiment.sort_values('pro_rust', ascending=False)"
   ]
  },
  {
   "cell_type": "code",
   "execution_count": 172,
   "metadata": {
    "collapsed": false
   },
   "outputs": [],
   "source": [
    "dfls2 = []\n",
    "for i in range(len(rnsw)):\n",
    "    result2 = run_sentiment(rnsw['Clean_x'].loc[i])\n",
    "    dfls2.append([list(result2[3]),list(result2[4]),\n",
    "                  list(result2[5]),list(result2[6])])    \n",
    "\n",
    "rustsentdfnsw = pd.DataFrame(dfls2)\n",
    "rustsentdfnsw.rename(columns = {0:'neg_trade', 1:'neg_notrade', 2:'pos_trade', 3:'pos_notrade'},inplace = True)\n",
    "rust_sentiment = rnsw.join(rustsentdfnsw)"
   ]
  },
  {
   "cell_type": "code",
   "execution_count": 163,
   "metadata": {
    "collapsed": false
   },
   "outputs": [],
   "source": [
    "rustsentdfnsw2= rust_sentiment.sort_values('pro_rust', ascending=False)"
   ]
  },
  {
   "cell_type": "code",
   "execution_count": 114,
   "metadata": {
    "collapsed": false
   },
   "outputs": [],
   "source": [
    "dfls3 = []\n",
    "for i in range(len(nrsw)):\n",
    "    result2 = run_sentiment(nrsw['Clean_x'].loc[i])\n",
    "    dfls3.append([list(result2[3]),list(result2[4]),\n",
    "                  list(result2[5]),list(result2[6])])    \n",
    "\n",
    "norustsentdfsw = pd.DataFrame(dfls3)\n",
    "norustsentdfsw.rename(columns = {0:'neg_trade', 1:'neg_notrade', 2:'pos_trade', 3:'pos_notrade'},inplace = True)\n",
    "norust_sentimentsw = nrsw.join(norustsentdfsw)"
   ]
  },
  {
   "cell_type": "code",
   "execution_count": 122,
   "metadata": {
    "collapsed": true
   },
   "outputs": [],
   "source": [
    "norust_sentimentsw2 = norust_sentimentsw.sort_values('pro_norust', ascending=False)"
   ]
  },
  {
   "cell_type": "code",
   "execution_count": 115,
   "metadata": {
    "collapsed": true
   },
   "outputs": [],
   "source": [
    "dfls4 = []\n",
    "for i in range(len(rnsw)):\n",
    "    result2 = run_sentiment(rnsw['Clean_x'].loc[i])\n",
    "    dfls4.append([list(result2[3]),list(result2[4]),\n",
    "                  list(result2[5]),list(result2[6])])    \n",
    "\n",
    "norustsentdfns = pd.DataFrame(dfls4)\n",
    "norustsentdfns.rename(columns = {0:'neg_trade', 1:'neg_notrade', 2:'pos_trade', 3:'pos_notrade'},inplace = True)\n",
    "norust_sentimentns = rnsw.join(norustsentdfns)"
   ]
  },
  {
   "cell_type": "code",
   "execution_count": 174,
   "metadata": {
    "collapsed": false
   },
   "outputs": [],
   "source": [
    "#rustsentdfnsw2"
   ]
  },
  {
   "cell_type": "code",
   "execution_count": 180,
   "metadata": {
    "collapsed": true
   },
   "outputs": [],
   "source": [
    "def title(df,i):\n",
    "    title = str(df['Year'].iloc[i]) +'  '\\\n",
    "+ str(df['Author'].iloc[i])+' '\\\n",
    "+ df['Title_x'].iloc[i]\n",
    "\n",
    "    return title"
   ]
  },
  {
   "cell_type": "code",
   "execution_count": 228,
   "metadata": {
    "collapsed": false,
    "scrolled": true
   },
   "outputs": [
    {
     "data": {
      "text/plain": [
       "'2008  Barack Obama Remarks to the AFL-CIO in Philadelphia'"
      ]
     },
     "execution_count": 228,
     "metadata": {},
     "output_type": "execute_result"
    }
   ],
   "source": [
    "title( rust_sentiment2, 3)"
   ]
  },
  {
   "cell_type": "code",
   "execution_count": 226,
   "metadata": {
    "collapsed": false
   },
   "outputs": [
    {
     "name": "stdout",
     "output_type": "stream",
     "text": [
      "And it's an administration that denies labor a seat at the table when trade deals are being negotiated, that doesn't believe in unions, that doesn't believe in organizing, and that's packed the labor relations board with their corporate buddies\n"
     ]
    }
   ],
   "source": [
    "for sentence in rust_sentiment2['neg_trade'].iloc[3]:\n",
    "    if 'trade' in sentence:\n",
    "        print(sentence)"
   ]
  },
  {
   "cell_type": "code",
   "execution_count": 227,
   "metadata": {
    "collapsed": false
   },
   "outputs": [
    {
     "name": "stdout",
     "output_type": "stream",
     "text": [
      "But what I refuse to accept is that we have to sign trade deals like the South Korea Agreement that are bad for American workers\n",
      "One hundred and eighty-one years ago, in the fall of 1827, a group of mechanics met in the shadow of Independence Hall to form what they called the Mechanics Union of Trade Associations - a moment that marked the birth of the trade union movement in America\n",
      "Like George Bush, Senator McCain is committed to more tax cuts for the rich, and more trade agreements that fail to protect American workers\n",
      "What I oppose - and what I have always opposed - are trade deals that put the interests of multinational corporations ahead of the interests of Americans workers - like NAFTA, and CAFTA, and permanent normal trade relations with China\n",
      "So you can trust me when I say that whatever trade deals we negotiate when I'm President will be good for American workers, and that they'll have strong labor and environmental protections that we'll enforce\n"
     ]
    }
   ],
   "source": [
    "for sentence in rust_sentiment2['pos_trade'].iloc[3]:\n",
    "    if 'trade' in sentence:\n",
    "        print(sentence)"
   ]
  },
  {
   "cell_type": "code",
   "execution_count": null,
   "metadata": {
    "collapsed": true
   },
   "outputs": [],
   "source": []
  },
  {
   "cell_type": "code",
   "execution_count": 121,
   "metadata": {
    "collapsed": true
   },
   "outputs": [],
   "source": [
    "norust_sentimentns2 = norust_sentimentns.sort_values('pro_norust', ascending=False)"
   ]
  },
  {
   "cell_type": "code",
   "execution_count": 60,
   "metadata": {
    "collapsed": true
   },
   "outputs": [],
   "source": [
    "noresult = run_sentiment(norust['Clean'].loc[0])"
   ]
  },
  {
   "cell_type": "code",
   "execution_count": 62,
   "metadata": {
    "collapsed": true
   },
   "outputs": [],
   "source": [
    "noresult1 = run_sentiment(norust['Clean'].loc[1])"
   ]
  },
  {
   "cell_type": "code",
   "execution_count": 66,
   "metadata": {
    "collapsed": false
   },
   "outputs": [],
   "source": [
    "#noresult1[0]"
   ]
  },
  {
   "cell_type": "code",
   "execution_count": 55,
   "metadata": {
    "collapsed": false
   },
   "outputs": [],
   "source": [
    "rust_sentiment"
   ]
  },
  {
   "cell_type": "code",
   "execution_count": null,
   "metadata": {
    "collapsed": true
   },
   "outputs": [],
   "source": []
  }
 ],
 "metadata": {
  "anaconda-cloud": {},
  "kernelspec": {
   "display_name": "Python [default]",
   "language": "python",
   "name": "python3"
  },
  "language_info": {
   "codemirror_mode": {
    "name": "ipython",
    "version": 3
   },
   "file_extension": ".py",
   "mimetype": "text/x-python",
   "name": "python",
   "nbconvert_exporter": "python",
   "pygments_lexer": "ipython3",
   "version": "3.5.2"
  }
 },
 "nbformat": 4,
 "nbformat_minor": 1
}
