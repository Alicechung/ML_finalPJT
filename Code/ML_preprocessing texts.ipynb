{
 "cells": [
  {
   "cell_type": "code",
   "execution_count": 4,
   "metadata": {
    "collapsed": true
   },
   "outputs": [],
   "source": [
    "import os, re\n",
    "from geotext import GeoText\n",
    "import pandas as pd"
   ]
  },
  {
   "cell_type": "code",
<<<<<<< HEAD
   "execution_count": 27,
   "metadata": {},
=======
   "execution_count": 72,
   "metadata": {
    "collapsed": true
   },
   "outputs": [],
   "source": [
    "filter_wordsls = ['free trade agreeement','free trade' ,'liberalization', 'liberalize' 'labor', 'labor union',\n",
    "'export', 'grow', 'growth' 'manufacturing' 'world','subsidy', 'protect', 'protection', \n",
    "'economy', 'china','import', 'competition', 'compete', 'rust belt','mexico', \n",
    "'cheap', 'unemploy', 'unemployment', 'adjustment', 'adjust' ,'wto', 'nafta', 'dumping', 'anti-dumping']"
   ]
  },
  {
   "cell_type": "code",
   "execution_count": 98,
   "metadata": {
    "collapsed": false,
    "scrolled": true
   },
>>>>>>> 11128b08245eb70ec8a72fe87e499829d4f949ee
   "outputs": [
    {
     "name": "stdout",
     "output_type": "stream",
     "text": [
      "Found directory: ../Data/\n",
      "../Data/\n",
      "Found directory: ../Data/PE2008\n",
      "../Data/PE2008\n",
      "Found directory: ../Data/PE2012\n",
      "../Data/PE2012\n",
      "Found directory: ../Data/PE2016\n",
      "../Data/PE2016\n"
     ]
    }
   ],
   "source": [
    "rootDir = '../Data/'\n",
    "\n",
    "#for dirName, subdirList, fileList in os.walk(rootDir) :\n",
    "\n",
    "d = {}\n",
    "#c = 0\n",
    "remarkls = []\n",
    "interviewls = []\n",
    "questionls = []\n",
    "otherls = []\n",
    "speechls = []\n",
    "addressls = []\n",
    "r = 0\n",
    "i = 0\n",
    "q = 0\n",
    "o = 0\n",
    "s = 0\n",
    "#statement_num = 0\n",
    "pe_dict = {2008:{}, 2012:{}, 2016:{}}\n",
    "for dirName, subdirList, fileList in os.walk(rootDir) :\n",
    "    print('Found directory: %s' % dirName)\n",
    "    print(dirName)\n",
    "    c = 0\n",
    "    for fname in fileList:        \n",
    "        if fname.endswith(\".txt\"):  \n",
    "            filepath = os.path.join(dirName, fname)\n",
    "            if dirName == '../Data/PE2008':  \n",
    "                c += 1\n",
    "                year = 2008\n",
    "                d = pe_dict[year]\n",
    "                speaker = fname[8:-4]\n",
    "            else:\n",
    "                c += 1\n",
    "                year = fname[8:12]\n",
    "                d = pe_dict[int(year)]\n",
    "                speaker = fname[12:-4]\n",
    "            d[speaker]={}\n",
    "            with open(filepath, 'r', -1, \"ISO-8859-1\") as input_file:\n",
    "                data = input_file.read()\n",
    "                splited_speeches = data.split('\\n\\n\\n')\n",
    "                statement_num = 0\n",
    "                for i in range(len(splited_speeches)):\n",
    "                    statement_num += 1\n",
    "                    speech = splited_speeches[i]\n",
    "                    #d[speaker][statement_num] = {}\n",
    "\n",
    "                    text_first = speech.split('\\n')\n",
    "                    text = [item for item in text_first if item != '']\n",
    "                    if text != []:\n",
    "                        title = text[0]\n",
    "                        if 'remarks' in text[0].lower():\n",
    "                            remarkls.append([speaker, title])\n",
    "                            places = GeoText(title)\n",
    "                            city_name = places.cities\n",
    "                            if len(city_name) == 0 :\n",
    "                                city = 0\n",
    "                            else:\n",
    "                                city = city_name[0]\n",
    "                            d[speaker][statement_num] = {'Author': speaker, 'Title': title,\n",
    "                                                   'Year':year, #'Text': text, \n",
    "                                                         'Type': 'remarks', 'City':city}\n",
    "                        elif 'speech' in text[0].lower():\n",
    "                            speechls.append([speaker, title])\n",
    "                            places = GeoText(title)\n",
    "                            city_name = places.cities\n",
    "                            if len(city_name) == 0 :\n",
    "                                city = 0\n",
    "                            else:\n",
    "                                city = city_name[0]\n",
    "                            d[speaker][statement_num] = {'Author': speaker, 'Title': title,\n",
    "                                                   'Year':year, #'Text': text, \n",
    "                                                         'Type': 'speech','City':city}\n",
    "                        elif 'interview' in text[0].lower():\n",
    "                            interviewls.append([speaker, title])\n",
    "                            places = GeoText(title)\n",
    "                            city_name = places.cities\n",
    "                            if len(city_name) == 0 :\n",
    "                                city = 0\n",
    "                            else:\n",
    "                                city = city_name[0]\n",
    "                            d[speaker][statement_num] = {'Author': speaker, 'Title': title,\n",
    "                                                   'Year':year, #'Text': text,\n",
    "                                                         'Type': 'interview','City':city }\n",
    "                        elif ('question' or 'q&a') in text[0].lower():\n",
    "                            questionls.append([speaker, title])\n",
    "                            places = GeoText(title)\n",
    "                            city_name = places.cities\n",
    "                            if len(city_name) == 0 :\n",
    "                                city = 0\n",
    "                            else:\n",
    "                                city = city_name[0]\n",
    "                            d[speaker][statement_num] = {'Author': speaker, 'Title': title,\n",
    "                                                   'Year':year, #'Text': text,\n",
    "                                                         'Type': 'question','City':city}\n",
    "                        elif 'address' in text[0].lower():\n",
    "                            addressls.append([speaker, title]) \n",
    "                            places = GeoText(title)\n",
    "                            city_name = places.cities\n",
    "                            if len(city_name) == 0 :\n",
    "                                city = 0\n",
    "                            else:\n",
    "                                city = city_name[0]\n",
    "                            d[speaker][statement_num] = {'Author': speaker, 'Title': title,\n",
    "                                                   'Year':year, #'Text': text,\n",
    "                                                         'Type': 'address','City':city}\n",
    "                        else:\n",
    "                            otherls.append([speaker, title])\n",
    "                            places = GeoText(title)\n",
    "                            city_name = places.cities\n",
    "                            if len(city_name) == 0 :\n",
    "                                city = 0\n",
    "                            else:\n",
    "                                city = city_name[0]\n",
    "                            d[speaker][statement_num] = {'Author': speaker, 'Title': title,\n",
    "                                                   'Year':year, #'Text': text,\n",
    "                                                         'Type': 'others','City':city}\n",
    "                        for word in filter_wordsls:\n",
    "                            num = len(re.findall(word, speech.lower()))\n",
    "                            d[speaker][statement_num].update({word: num})"
   ]
  },
  {
   "cell_type": "code",
   "execution_count": 99,
   "metadata": {
    "collapsed": false
   },
   "outputs": [
    {
     "data": {
      "text/plain": [
       "dict_keys([2008, 2016, 2012])"
      ]
     },
     "execution_count": 99,
     "metadata": {},
     "output_type": "execute_result"
    }
   ],
   "source": [
    "pe_dict.keys()"
   ]
  },
  {
   "cell_type": "code",
   "execution_count": 100,
   "metadata": {
    "collapsed": false,
    "scrolled": false
   },
   "outputs": [],
   "source": [
    "temp = {}\n",
    "for year1, values1 in pe_dict.items():\n",
    "    for author1, values2 in values1.items():\n",
    "        for number, values3 in values2.items():\n",
    "            #print(values3)\n",
    "            temp.setdefault('Year1', []).append(year1)\n",
    "            temp.setdefault('Author1', []).append(author1)\n",
    "            temp.setdefault('No.', []).append(number)\n",
    "            for key, value in values3.items():\n",
    "                temp.setdefault(key, []).append(value)\n",
    "#print(pd.DataFrame(temp))"
   ]
  },
  {
   "cell_type": "code",
   "execution_count": 101,
   "metadata": {
    "collapsed": false
   },
   "outputs": [],
   "source": [
    "df = pd.DataFrame(temp)"
   ]
  },
  {
   "cell_type": "code",
   "execution_count": 106,
   "metadata": {
    "collapsed": false
   },
   "outputs": [],
   "source": [
    "df.to_csv('../Data/primaryresult_words_count.csv')"
   ]
  },
  {
   "cell_type": "code",
   "execution_count": 108,
   "metadata": {
    "collapsed": false
   },
   "outputs": [],
   "source": [
    "rdf = pd.read_csv('../Data/primaryresult_words_count.csv')"
   ]
  },
  {
   "cell_type": "code",
   "execution_count": null,
   "metadata": {
    "collapsed": false
   },
   "outputs": [],
   "source": []
  },
  {
   "cell_type": "code",
   "execution_count": 35,
   "metadata": {
    "collapsed": false
   },
   "outputs": [],
   "source": [
    "pd.DataFrame.from_dict({(i,j): user_dict[i][j] \n",
    "                           for i in user_dict.keys() \n",
    "                           for j in user_dict[i].keys()},\n",
    "                       orient='index')"
   ]
  },
  {
   "cell_type": "code",
   "execution_count": 28,
   "metadata": {
    "collapsed": false
   },
   "outputs": [
    {
     "data": {
      "text/plain": [
       "dict_keys([2008, 2016, 2012])"
      ]
     },
     "execution_count": 28,
     "metadata": {},
     "output_type": "execute_result"
    }
   ],
   "source": [
    "pe_dict.keys()"
   ]
  },
  {
   "cell_type": "code",
   "execution_count": 60,
   "metadata": {
    "collapsed": false
   },
   "outputs": [
    {
     "data": {
      "text/plain": [
       "{'Author': 'Barack Obama',\n",
       " 'City': [],\n",
       " 'Title': 'Keynote Address at the 2004 Democratic National Convention',\n",
       " 'Type': 'address',\n",
       " 'Year': 2008}"
      ]
     },
     "execution_count": 60,
     "metadata": {},
     "output_type": "execute_result"
    }
   ],
   "source": [
    "pe_dict[2008]['Barack Obama'][1]"
   ]
  },
  {
   "cell_type": "code",
<<<<<<< HEAD
   "execution_count": 30,
   "metadata": {},
=======
   "execution_count": 57,
   "metadata": {
    "collapsed": false
   },
>>>>>>> 11128b08245eb70ec8a72fe87e499829d4f949ee
   "outputs": [
    {
     "data": {
      "text/plain": [
       "{'Author': 'Barack Obama',\n",
       " 'City': ['Selma'],\n",
       " 'Title': 'Remarks at the Selma Voting Rights March Commemoration in Selma, Alabama',\n",
       " 'Type': 'remarks',\n",
       " 'Year': 2008}"
      ]
     },
     "execution_count": 57,
     "metadata": {},
     "output_type": "execute_result"
    }
   ],
   "source": [
    "pe_dict[2008]['Barack Obama'][4]"
   ]
  },
  {
   "cell_type": "code",
   "execution_count": 96,
   "metadata": {
    "collapsed": true
   },
   "outputs": [],
   "source": [
    "#l = ['Grand Rapids', 'Michigan']"
   ]
  },
  {
   "cell_type": "code",
   "execution_count": 95,
   "metadata": {
    "collapsed": false
   },
   "outputs": [
    {
     "data": {
      "text/plain": [
       "\"['Grand Rapids', 'Michigan']\""
      ]
     },
     "execution_count": 95,
     "metadata": {},
     "output_type": "execute_result"
    }
   ],
   "source": []
  },
  {
   "cell_type": "code",
   "execution_count": 195,
   "metadata": {
    "collapsed": false
   },
   "outputs": [
    {
     "name": "stdout",
     "output_type": "stream",
     "text": [
      "1069\n",
      "178\n",
      "2\n",
      "17\n",
      "53\n",
      "79\n"
     ]
    }
   ],
   "source": [
    "print(len(remarkls))\n",
    "print(len(interviewls))\n",
    "print(len(questionls))\n",
    "print(len(otherls))\n",
    "print(len(speechls))\n",
    "print(len(addressls))"
   ]
  },
  {
   "cell_type": "code",
   "execution_count": 208,
   "metadata": {
    "collapsed": false
   },
   "outputs": [],
   "source": [
    "import pandas as pd"
   ]
  },
  {
   "cell_type": "code",
   "execution_count": 83,
   "metadata": {
    "collapsed": true
   },
   "outputs": [],
   "source": [
    "from geotext import GeoText"
   ]
  },
  {
   "cell_type": "code",
   "execution_count": 227,
   "metadata": {
    "collapsed": true
   },
   "outputs": [],
   "source": [
    "import geograpy"
   ]
  },
  {
   "cell_type": "code",
   "execution_count": 232,
   "metadata": {
    "collapsed": false
   },
   "outputs": [
    {
     "data": {
      "text/plain": [
       "'Remarks to the Republican National Convention in Cleveland, Ohio'"
      ]
     },
     "execution_count": 232,
     "metadata": {},
     "output_type": "execute_result"
    }
   ],
   "source": [
    "title"
   ]
  },
  {
   "cell_type": "code",
   "execution_count": 243,
   "metadata": {
    "collapsed": false
   },
   "outputs": [],
   "source": [
    "placetext = geograpy.Extractor(title)"
   ]
  },
  {
   "cell_type": "code",
<<<<<<< HEAD
   "execution_count": 34,
   "metadata": {},
=======
   "execution_count": 250,
   "metadata": {
    "collapsed": false
   },
>>>>>>> 11128b08245eb70ec8a72fe87e499829d4f949ee
   "outputs": [
    {
     "data": {
      "text/plain": [
       "<geograpy.extraction.Extractor at 0x121026a20>"
      ]
     },
     "execution_count": 250,
     "metadata": {},
     "output_type": "execute_result"
    }
   ],
   "source": [
    "placetext"
   ]
  },
  {
   "cell_type": "code",
   "execution_count": null,
   "metadata": {
    "collapsed": true
   },
   "outputs": [],
   "source": []
  }
 ],
 "metadata": {
  "anaconda-cloud": {},
  "kernelspec": {
   "display_name": "Python 3",
   "language": "python",
   "name": "python3"
  },
  "language_info": {
   "codemirror_mode": {
    "name": "ipython",
    "version": 3
   },
   "file_extension": ".py",
   "mimetype": "text/x-python",
   "name": "python",
   "nbconvert_exporter": "python",
   "pygments_lexer": "ipython3",
   "version": "3.6.3"
  }
 },
 "nbformat": 4,
 "nbformat_minor": 1
}
