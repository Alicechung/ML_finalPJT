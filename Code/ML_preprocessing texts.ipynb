{
 "cells": [
  {
   "cell_type": "code",
   "execution_count": 1,
   "metadata": {
    "collapsed": true
   },
   "outputs": [],
   "source": [
    "import re"
   ]
  },
  {
   "cell_type": "code",
   "execution_count": 30,
   "metadata": {
    "collapsed": true
   },
   "outputs": [],
   "source": [
    "with open('../Data/PE2016/campaign2016Jeb Bush.txt', 'r') as f:\n",
    "    data = f.read()\n",
    "    splited_speeches = data.split('\\n\\n\\n')"
   ]
  },
  {
   "cell_type": "code",
   "execution_count": 34,
   "metadata": {
    "collapsed": false
   },
   "outputs": [
    {
     "data": {
      "text/plain": [
       "['Remarks Announcing Candidacy for President at Miami Dade College in Miami, Florida',\n",
       " '',\n",
       " 'June 15, 2015',\n",
       " '',\n",
       " 'Thank you all very much. I always feel welcome at Miami-Dade College. This is a place that welcomes everyone with their hearts set on the future — a place where hope leads to achievement, and striving leads to success. For all of us, it is just the place to be in the campaign that begins today.',\n",
       " \"We are 17 months from the time for choosing. The stakes for America's future are about as great as they come. Our prosperity and our security are in the balance. So is opportunity, in this nation where every life matters and everyone has the right to rise.\",\n",
       " \"Already, the choice is taking shape. The party now in the White House is planning a no-suspense primary, for a no-change election. To hold onto power. To slog on with the same agenda under another name: That's our opponents' call to action this time around. That's all they've got left.\",\n",
       " 'And you and I know that America deserves better.',\n",
       " 'They have offered a progressive agenda that includes everything but progress. They are responsible for the slowest economic recovery ever, the biggest debt increases ever, a massive tax increase on the middle class, the relentless buildup of the regulatory state, and the swift, mindless drawdown of a military that was generations in the making.',\n",
       " 'I, for one, am not eager to see what another four years would look like under that kind of leadership.',\n",
       " 'The presidency should not be passed on from one liberal to the next.',\n",
       " \"So, here's what it comes down to. Our country is on a very bad course. And the question is: What are we going to do about it?\",\n",
       " 'The question for me is: What am I going to do about it?',\n",
       " 'And I have decided.',\n",
       " 'I am a candidate for President of the United States.',\n",
       " 'We will take command of our future once again in this country.',\n",
       " 'We will lift our sights again, make opportunity common again, get events in the world moving our way again.',\n",
       " 'We will take Washington — the static capital of this dynamic country — out of the business of causing problems.',\n",
       " 'We will get back on the side of free enterprise and free people.',\n",
       " \"I know we can fix this. Because I've done it.\",\n",
       " 'Here, in this great and diverse state that looks so much like America.',\n",
       " 'So many challenges could be overcome if we just get this economy growing at full strength. There is not a reason in the world why we cannot grow at a rate of four percent a year.',\n",
       " 'And that will be my goal as President — four percent growth, and the 19 million new jobs that come with it.',\n",
       " \"Economic growth that makes a difference for hard-working men and women — who don't need reminding that the economy is more than the stock market.\",\n",
       " \"Growth that lifts up the middle class — all the families who haven't gotten a raise in 15 years. Growth that makes a difference for everyone.\",\n",
       " \"It's possible.\",\n",
       " 'It can be done.',\n",
       " 'We made Florida number one in job creation and number one in small business creation. 1.3 million new jobs, 4.4 percent growth, higher family income, eight balanced budgets, and tax cuts eight years in a row that saved our people and businesses 19 billion dollars.',\n",
       " \"All this plus a bond upgrade to Triple-A compared to the sorry downgrade of America's credit in these years. That was the commitment, and that is the record that turned this state around.\",\n",
       " 'I also used my veto power to protect our taxpayers from needless spending.',\n",
       " \"And if I am elected President, I'll show Congress how that's done.\",\n",
       " \"Leaders have to think big, and we've got a tax code filled with small-time thinking and self-interested politics. What swarms of lobbyists have done, we can undo with a vastly simpler system — clearing out special favors for the few reducing rates for all.\",\n",
       " 'What the IRS, EPA, and entire bureaucracy have done with overregulation, we can undo by act of Congress and order of the President.',\n",
       " 'Federal regulation has gone far past the consent of the governed.',\n",
       " 'It is time to start making rules for the rule-makers.',\n",
       " 'When we get serious about limited government, we can pursue the great and worthy goals that America has gone too long without.',\n",
       " 'We can build our future on solvency instead of borrowed money.',\n",
       " 'We can honor our commitments on the strength of fiscal integrity.',\n",
       " 'With North American resources and American ingenuity, we can finally achieve energy security for this nation — and with Presidential leadership, we can make it happen within five years.',\n",
       " 'If we do all of this, if we do it relentlessly, and if we do it right, we will make the United States of America an economic superpower like no other.',\n",
       " \"We will also challenge the culture that has made lobbying the premier growth industry in the nation's capital.\",\n",
       " 'The rest of the country struggles under big government, while comfortable, complacent interest groups in Washington have been thriving on it.',\n",
       " 'A self-serving attitude can take hold in any capital, just as it once did in Tallahassee.',\n",
       " \"I was a governor who refused to accept that as the normal or right way of conducting the people's business.\",\n",
       " 'I will not accept it as the standard in Washington.',\n",
       " \"We don't need another President who merely holds the top spot among the pampered elites of Washington.\",\n",
       " \"We need a President willing to challenge and disrupt the whole culture in our nation's capital.\",\n",
       " 'I will be that President because I was a reforming governor, not just another member of the club.',\n",
       " \"There's no passing off responsibility when you're a governor, no blending into the legislative crowd or filing an amendment and calling that success.\",\n",
       " 'As our whole nation has learned since 2008, executive experience is another term for preparation, and there is no substitute for that.',\n",
       " 'We are not going to clean up the mess in Washington by electing the people who either helped create it or have proven incapable of fixing it.',\n",
       " 'In government, if we get a few big things right, we can make life better for millions of people, especially for kids in public schools. Think of what we all watched not long ago in Baltimore where so many young adults are walking around with no vision of a life beyond the life they know.',\n",
       " \"It's a tragedy played out over and over and over again.\",\n",
       " 'After we reformed education in Florida, low-income student achievement improved here more than in any other state.',\n",
       " \"We stopped processing kids along as if we didn't care — because we do care, and you don't show that by counting out anyone's child. You give them all a chance.\",\n",
       " \"Here's what I believe.\",\n",
       " 'When a school is just another dead end, every parent should have the right to send their child to a better school — public, private, or charter.',\n",
       " 'Every school should have high standards, and the federal government should have nothing to do with setting them.',\n",
       " 'Nationwide, if I am President, we will take the power of choice away from the unions and bureaucrats and give it back to parents.',\n",
       " \"We made sure of something else in Florida — that children with developmental challenges got schooling and caring attention, just like every other girl and boy. We didn't leave them last in line. We put them first in line because they are not a problem. They are a priority.\",\n",
       " 'That is always our first and best instinct in this nation filled with charitable hearts. Yet these have been rough years for religious charities and their right of conscience. And the leading Democratic candidate recently hinted of more trouble to come.',\n",
       " 'Secretary Clinton insists that when the progressive agenda encounters religious beliefs to the contrary those beliefs, quote, \"have to be changed.\" That\\'s what she said, and I guess we should at least thank her for the warning.',\n",
       " 'The most galling example is the shabby treatment of the Little Sisters of the Poor, a Christian charity that dared to voice objections of conscience to Obamacare. The next President needs to make it clear that great charities like the Little Sisters of the Poor need no federal instruction in doing the right thing.',\n",
       " \"It comes down to a choice between the Little Sisters and Big Brother, and I'm going with the Sisters.\",\n",
       " \"It's still a mystery to me why, in these violent times, the President a few months ago thought it relevant at a prayer breakfast to bring up the Crusades.\",\n",
       " \"Americans don't need lectures on the Middle Ages when we are dealing abroad with modern horrors committed by fanatics.\",\n",
       " 'From the beginning, our President and his foreign-policy team have been so eager to be the history makers that they have failed to be the peacemakers.',\n",
       " 'With their phone-it-in foreign policy, the Obama-Clinton-Kerry team is leaving a legacy of crises uncontained, violence unopposed, enemies unnamed, friends undefended, and alliances unraveling.',\n",
       " 'This supposedly risk-averse administration is also running us straight in the direction of the greatest risk of all - military inferiority.',\n",
       " 'It will go on automatically until a President steps in to rebuild our armed forces and take care of our troops and our veterans.',\n",
       " 'They have my word — I will do it.',\n",
       " 'We keep dependable friends in this world by being dependable ourselves.',\n",
       " 'I will rebuild our vital friendships. That starts by standing with the brave, democratic State of Israel.',\n",
       " 'American-led alliances need rebuilding too, and better judgment is called for in relations far and near.',\n",
       " 'Ninety miles to our south, there is talk of a state visit by our outgoing President.',\n",
       " \"But we don't need a glorified tourist to go to Havana in support of a failed Cuba.\",\n",
       " 'We need an American President to go to Havana in solidarity with a free Cuban people, and I am ready to be that President.',\n",
       " \"Great things like that can really happen. And in this country of ours, the most improbable things can happen. Take that from a guy who met his first President on the day he was born, and his second on the day he was brought home from the hospital. The person who handled both introductions is here today. She's watching what I say — and frankly, with all these reporters around, I'm watching what she says. Please say hello to my wonderful Mom, Barbara Bush.\",\n",
       " \"Long before the world knew my parents' names, I knew I was blessed to be their son.\",\n",
       " \"And they didn't mind at all that I found my own path. It led from Texas to Miami by way of Mexico.\",\n",
       " 'In 1971, 8 years before then-candidate Ronald Reagan said that we should stop thinking of our neighbors as foreigners, I was ahead of my time in cross-border outreach.',\n",
       " 'Across a plaza, I saw a girl.',\n",
       " 'She spoke only a little English. My Spanish was okay but not that great.',\n",
       " 'With some intensive study, we got that barrier out of the way in a hurry.',\n",
       " 'In the short version, it has been a gracious walk through the years with the former Columba Garnica de Gallo.',\n",
       " \"Whatever else I might or might not have going for me, I've got the quiet joy of a man who can say that the most wonderful friend he has in the world is his own wife.\",\n",
       " 'And together, we had the not-so-quiet joy of raising three children who have brought us nothing but happiness and pride: George, Noelle, and Jeb.',\n",
       " 'The boys have also brought us more Bushes — their wives, Mandi and Sandra, and our grandchildren Georgia, Prescott, Vivian, and Jack.',\n",
       " \"Campaigns aren't easy, and they're not supposed to be. And I know that there are good people running for President.\",\n",
       " 'Quite a few, in fact.',\n",
       " \"And not a one of us deserves the job by right of resume, party, seniority, family, or family narrative. It's nobody's turn. It's everybody's test, and it's wide open — exactly as a contest for President should be.\",\n",
       " 'The outcome is entirely up to you - the voters. It is entirely up to me to earn the nomination of my party and then to take our case all across this great and diverse nation.',\n",
       " 'As a candidate, I intend to let everyone hear my message, including the many who can express their love of country in a different language:',\n",
       " 'Ayúdenos en tener una campaña que les da la bienvenida. Trabajen con nosotros por los valores que compartimos y para un gran futuro que es nuestro para construir para nosotros y nuestros hijos.',\n",
       " 'Júntense a nuestra causa de oportunidad para todos, a la causa de todos que aman la libertad y a la causa noble de los Estados Unidos de Amйrica.',\n",
       " 'In any language, my message will be an optimistic one because I am certain that we can make the decades just ahead in America the greatest time ever to be alive in this world.',\n",
       " 'That chance, that hope requires the best that is in us, and I will give it my all.',\n",
       " 'I will campaign as I would serve, going everywhere, speaking to everyone, keeping my word, facing the issues without flinching, and staying true to what I believe.',\n",
       " 'I will take nothing and no one for granted. I will run with heart.',\n",
       " 'I will run to win.',\n",
       " 'It begins here and now.',\n",
       " \"And I'm asking for your vote.\",\n",
       " 'Thank you. God Bless You.']"
      ]
     },
     "execution_count": 34,
     "metadata": {},
     "output_type": "execute_result"
    }
   ],
   "source": [
    "splited_speeches[0].split('\\n')[:-2]"
   ]
  },
  {
   "cell_type": "code",
   "execution_count": null,
   "metadata": {
    "collapsed": true
   },
   "outputs": [],
   "source": []
  }
 ],
 "metadata": {
  "kernelspec": {
   "display_name": "Python [default]",
   "language": "python",
   "name": "python3"
  },
  "language_info": {
   "codemirror_mode": {
    "name": "ipython",
    "version": 3
   },
   "file_extension": ".py",
   "mimetype": "text/x-python",
   "name": "python",
   "nbconvert_exporter": "python",
   "pygments_lexer": "ipython3",
   "version": "3.5.2"
  }
 },
 "nbformat": 4,
 "nbformat_minor": 1
}
