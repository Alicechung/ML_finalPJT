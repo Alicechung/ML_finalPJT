{
 "cells": [
  {
   "cell_type": "code",
   "execution_count": 2,
   "metadata": {
    "collapsed": true
   },
   "outputs": [],
   "source": [
    "import os, re"
   ]
  },
  {
   "cell_type": "code",
   "execution_count": 27,
   "metadata": {},
   "outputs": [
    {
     "name": "stdout",
     "output_type": "stream",
     "text": [
      "Found directory: ../Data/\n",
      "../Data/\n",
      "Found directory: ../Data/PE2008\n",
      "../Data/PE2008\n",
      "Found directory: ../Data/PE2012\n",
      "../Data/PE2012\n",
      "Found directory: ../Data/PE2016\n",
      "../Data/PE2016\n"
     ]
    }
   ],
   "source": [
    "rootDir = '../Data/'\n",
    "\n",
    "#for dirName, subdirList, fileList in os.walk(rootDir) :\n",
    "\n",
    "d = {}\n",
    "c = 0\n",
    "for dirName, subdirList, fileList in os.walk(rootDir) :\n",
    "    print('Found directory: %s' % dirName)\n",
    "    print(dirName)\n",
    "    for fname in fileList:        \n",
    "        if fname.endswith(\".txt\"):  \n",
    "            c += 1\n",
    "            filepath = os.path.join(dirName, fname)\n",
    "            if dirName == '../Data/PE2008':\n",
    "                year = 2008\n",
    "                speaker = fname[8:-4]\n",
    "            else:\n",
    "                year = fname[8:12]\n",
    "                speaker = fname[12:-4]\n",
    "            with open(filepath, 'r') as input_file:\n",
    "                data = input_file.read()\n",
    "                splited_speeches = data.split('\\n\\n\\n')\n",
    "                \n",
    "                for speech in splited_speeches:\n",
    "                    text = splited_speeches[0].split('\\n')\n",
    "                    d[c] = {'Author': speaker, 'Year':year, 'Text': text}"
   ]
  },
  {
   "cell_type": "code",
   "execution_count": 30,
   "metadata": {},
   "outputs": [
    {
     "data": {
      "text/plain": [
       "{'Author': 'Barack Obama',\n",
       " 'Text': ['Keynote Address at the 2004 Democratic National Convention',\n",
       "  '',\n",
       "  'July 27, 2004',\n",
       "  '',\n",
       "  \"On behalf of the great state of Illinois, crossroads of a nation, land of Lincoln, let me express my deep gratitude for the privilege of addressing this convention. Tonight is a particular honor for me because, let's face it, my presence on this stage is pretty unlikely. My father was a foreign student, born and raised in a small village in Kenya. He grew up herding goats, went to school in a tin-roof shack. His father, my grandfather, was a cook, a domestic servant.\",\n",
       "  \"But my grandfather had larger dreams for his son. Through hard work and perseverance my father got a scholarship to study in a magical place: America, which stood as a beacon of freedom and opportunity to so many who had come before. While studying here, my father met my mother. She was born in a town on the other side of the world, in Kansas. Her father worked on oil rigs and farms through most of the Depression. The day after Pearl Harbor he signed up for duty, joined Patton's army and marched across Europe. Back home, my grandmother raised their baby and went to work on a bomber assembly line. After the war, they studied on the GI Bill, bought a house through FHA, and moved west in search of opportunity.\",\n",
       "  'And they, too, had big dreams for their daughter, a common dream, born of two continents. My parents shared not only an improbable love; they shared an abiding faith in the possibilities of this nation. They would give me an African name, Barack, or \"blessed,\" believing that in a tolerant America your name is no barrier to success. They imagined me going to the best schools in the land, even though they weren\\'t rich, because in a generous America you don\\'t have to be rich to achieve your potential. They are both passed away now. Yet, I know that, on this night, they look down on me with pride.',\n",
       "  'I stand here today, grateful for the diversity of my heritage, aware that my parents\\' dreams live on in my precious daughters. I stand here knowing that my story is part of the larger American story, that I owe a debt to all of those who came before me, and that, in no other country on earth, is my story even possible. Tonight, we gather to affirm the greatness of our nation, not because of the height of our skyscrapers, or the power of our military, or the size of our economy. Our pride is based on a very simple premise, summed up in a declaration made over two hundred years ago, \"We hold these truths to he self-evident, that all men are created equal. That they are endowed by their Creator with certain inalienable rights. That among these are life, liberty and the pursuit of happiness.\"',\n",
       "  \"That is the true genius of America, a faith in the simple dreams of its people, the insistence on small miracles. That we can tuck in our children at night and know they are fed and clothed and safe from harm. That we can say what we think, write what we think, without hearing a sudden knock on the door. That we can have an idea and start our own business without paying a bribe or hiring somebody's son. That we can participate in the political process without fear of retribution, and that our votes will he counted - or at least, most of the time.\",\n",
       "  \"This year, in this election, we are called to reaffirm our values and commitments, to hold them against a hard reality and see how we are measuring up, to the legacy of our forbearers, and the promise of future generations. And fellow Americans - Democrats, Republicans, Independents - I say to you tonight: we have more work to do. More to do for the workers I met in Galesburg, Illinois, who are losing their union jobs at the Maytag plant that's moving to Mexico, and now are having to compete with their own children for jobs that pay seven bucks an hour. More to do for the father I met who was losing his job and choking back tears, wondering how he would pay $4,500 a month for the drugs his son needs without the health benefits he counted on. More to do for the young woman in East St. Louis, and thousands more like her, who has the grades, has the drive, has the will, but doesn't have the money to go to college.\",\n",
       "  \"Don't get me wrong. The people I meet in small towns and big cities, in diners and office parks, they don't expect government to solve all their problems. They know they have to work hard to get ahead and they want to. Go into the collar counties around Chicago, and people will tell you they don't want their tax money wasted by a welfare agency or the Pentagon. Go into any inner city neighborhood, and folks will tell you that government alone can't teach kids to learn. They know that parents have to parent, that children can't achieve unless we raise their expectations and turn off the television sets and eradicate the slander that says a black youth with a book is acting white. No, people don't expect government to solve all their problems. But they sense, deep in their bones, that with just a change in priorities, we can make sure that every child in America has a decent shot at life, and that the doors of opportunity remain open to all. They know we can do better. And they want that choice.\",\n",
       "  \"In this election, we offer that choice. Our party has chosen a man to lead us who embodies the best this country has to offer. That man is John Kerry. John Kerry understands the ideals of community, faith, and sacrifice, because they've defined his life. From his heroic service in Vietnam to his years as prosecutor and lieutenant governor, through two decades in the United States Senate, he has devoted himself to this country. Again and again, we've seen him make tough choices when easier ones were available. His values and his record affirm what is best in us.\",\n",
       "  \"John Kerry believes in an America where hard work is rewarded. So instead of offering tax breaks to companies shipping jobs overseas, he'll offer them to companies creating jobs here at home. John Kerry believes in an America where all Americans can afford the same health coverage our politicians in Washington have for themselves. John Kerry believes in energy independence, so we aren't held hostage to the profits of oil companies or the sabotage of foreign oil fields. John Kerry believes in the constitutional freedoms that have made our country the envy of the world, and he will never sacrifice our basic liberties nor use faith as a wedge to divide us. And John Kerry believes that in a dangerous world, war must be an option, but it should never he the first option.\",\n",
       "  \"A while back, I met a young man named Shamus at the VFW Hall in East Moline, Illinois. He was a good-looking kid, six-two or six-three, clear-eyed, with an easy smile. He told me he'd joined the Marines and was heading to Iraq the following week. As I listened to him explain why he'd enlisted, his absolute faith in our country and its leaders, his devotion to duty and service, I thought this young man was all any of us might hope for in a child. But then I asked myself: Are we serving Shamus as well as he was serving us? I thought of more than 900 service men and women, sons and daughters, husbands and wives, friends and neighbors, who will not be returning to their hometowns. I thought of families I had met who were struggling to get by without a loved one's full income, or whose loved ones had returned with a limb missing or with nerves shattered, but who still lacked long-term health benefits because they were reservists. When we send our young men and women into harm's way, we have a solemn obligation not to fudge the numbers or shade the truth about why they're going, to care for their families while they're gone, to tend to the soldiers upon their return, and to never ever go to war without enough troops to win the war, secure the peace, and earn the respect of the world.\",\n",
       "  \"Now let me be clear. We have real enemies in the world. These enemies must be found. They must be pursued and they must be defeated. John Kerry knows this. And just as Lieutenant Kerry did not hesitate to risk his life to protect the men who served with him in Vietnam, President Kerry will not hesitate one moment to use our military might to keep America safe and secure. John Kerry believes in America. And he knows it's not enough for just some of us to prosper. For alongside our famous individualism, there's another ingredient in the American saga.\",\n",
       "  'A belief that we are connected as one people. If there\\'s a child on the south side of Chicago who can\\'t read, that matters to me, even if it\\'s not my child. If there\\'s a senior citizen somewhere who can\\'t pay for her prescription and has to choose between medicine and the rent, that makes my life poorer, even if it\\'s not my grandmother. If there\\'s an Arab American family being rounded up without benefit of an attorney or due process, that threatens my civil liberties. It\\'s that fundamental belief - I am my brother\\'s keeper, I am my sister\\'s keeper - that makes this country work. It\\'s what allows us to pursue our individual dreams, yet still come together as a single American family. \"E pluribus unum.\" Out of many, one.',\n",
       "  \"Yet even as we speak, there are those who are preparing to divide us, the spin masters and negative ad peddlers who embrace the politics of anything goes. Well, I say to them tonight, there's not a liberal America and a conservative America - there's the United States of America. There's not a black America and white America and Latino America and Asian America; there's the United States of America. The pundits like to slice-and-dice our country into Red States and Blue States; Red States for Republicans, Blue States for Democrats. But I've got news for them, too. We worship an awesome God in the Blue States, and we don't like federal agents poking around our libraries in the Red States. We coach Little League in the Blue States and have gay friends in the Red States. There are patriots who opposed the war in Iraq and patriots who supported it. We are one people, all of us pledging allegiance to the stars and stripes, all of us defending the United States of America.\",\n",
       "  \"In the end, that's what this election is about. Do we participate in a politics of cynicism or a politics of hope? John Kerry calls on us to hope. John Edwards calls on us to hope. I'm not talking about blind optimism here - the almost willful ignorance that thinks unemployment will go away if we just don't talk about it, or the health care crisis will solve itself if we just ignore it. No, I'm talking about something more substantial. It's the hope of slaves sitting around a fire singing freedom songs; the hope of immigrants setting out for distant shores; the hope of a young naval lieutenant bravely patrolling the Mekong Delta; the hope of a millworker's son who dares to defy the odds; the hope of a skinny kid with a funny name who believes that America has a place for him, too. The audacity of hope!\",\n",
       "  \"In the end, that is God's greatest gift to us, the bedrock of this nation; the belief in things not seen; the belief that there are better days ahead. I believe we can give our middle class relief and provide working families with a road to opportunity. I believe we can provide jobs to the jobless, homes to the homeless, and reclaim young people in cities across America from violence and despair. I believe that as we stand on the crossroads of history, we can make the right choices, and meet the challenges that face us. America!\",\n",
       "  'Tonight, if you feel the same energy I do, the same urgency I do, the same passion I do, the same hopefulness I do - if we do what we must do, then I have no doubt that all across the country, from Florida to Oregon, from Washington to Maine, the people will rise up in November, and John Kerry will be sworn in as president, and John Edwards will be sworn in as vice president, and this country will reclaim its promise, and out of this long political darkness a brighter day will come. Thank you and God bless you.',\n",
       "  'Citation: Barack Obama: \"Keynote Address at the 2004 Democratic National Convention,\" July 27, 2004. Online by Gerhard Peters and John T. Woolley, The American Presidency Project. http://www.presidency.ucsb.edu/ws/?pid=76988.'],\n",
       " 'Year': 2008}"
      ]
     },
     "execution_count": 30,
     "metadata": {},
     "output_type": "execute_result"
    }
   ],
   "source": [
    "d[1]"
   ]
  },
  {
   "cell_type": "code",
   "execution_count": 34,
   "metadata": {},
   "outputs": [
    {
     "data": {
      "text/plain": [
       "['Remarks Announcing Candidacy for President at Miami Dade College in Miami, Florida',\n",
       " '',\n",
       " 'June 15, 2015',\n",
       " '',\n",
       " 'Thank you all very much. I always feel welcome at Miami-Dade College. This is a place that welcomes everyone with their hearts set on the future — a place where hope leads to achievement, and striving leads to success. For all of us, it is just the place to be in the campaign that begins today.',\n",
       " \"We are 17 months from the time for choosing. The stakes for America's future are about as great as they come. Our prosperity and our security are in the balance. So is opportunity, in this nation where every life matters and everyone has the right to rise.\",\n",
       " \"Already, the choice is taking shape. The party now in the White House is planning a no-suspense primary, for a no-change election. To hold onto power. To slog on with the same agenda under another name: That's our opponents' call to action this time around. That's all they've got left.\",\n",
       " 'And you and I know that America deserves better.',\n",
       " 'They have offered a progressive agenda that includes everything but progress. They are responsible for the slowest economic recovery ever, the biggest debt increases ever, a massive tax increase on the middle class, the relentless buildup of the regulatory state, and the swift, mindless drawdown of a military that was generations in the making.',\n",
       " 'I, for one, am not eager to see what another four years would look like under that kind of leadership.',\n",
       " 'The presidency should not be passed on from one liberal to the next.',\n",
       " \"So, here's what it comes down to. Our country is on a very bad course. And the question is: What are we going to do about it?\",\n",
       " 'The question for me is: What am I going to do about it?',\n",
       " 'And I have decided.',\n",
       " 'I am a candidate for President of the United States.',\n",
       " 'We will take command of our future once again in this country.',\n",
       " 'We will lift our sights again, make opportunity common again, get events in the world moving our way again.',\n",
       " 'We will take Washington — the static capital of this dynamic country — out of the business of causing problems.',\n",
       " 'We will get back on the side of free enterprise and free people.',\n",
       " \"I know we can fix this. Because I've done it.\",\n",
       " 'Here, in this great and diverse state that looks so much like America.',\n",
       " 'So many challenges could be overcome if we just get this economy growing at full strength. There is not a reason in the world why we cannot grow at a rate of four percent a year.',\n",
       " 'And that will be my goal as President — four percent growth, and the 19 million new jobs that come with it.',\n",
       " \"Economic growth that makes a difference for hard-working men and women — who don't need reminding that the economy is more than the stock market.\",\n",
       " \"Growth that lifts up the middle class — all the families who haven't gotten a raise in 15 years. Growth that makes a difference for everyone.\",\n",
       " \"It's possible.\",\n",
       " 'It can be done.',\n",
       " 'We made Florida number one in job creation and number one in small business creation. 1.3 million new jobs, 4.4 percent growth, higher family income, eight balanced budgets, and tax cuts eight years in a row that saved our people and businesses 19 billion dollars.',\n",
       " \"All this plus a bond upgrade to Triple-A compared to the sorry downgrade of America's credit in these years. That was the commitment, and that is the record that turned this state around.\",\n",
       " 'I also used my veto power to protect our taxpayers from needless spending.',\n",
       " \"And if I am elected President, I'll show Congress how that's done.\",\n",
       " \"Leaders have to think big, and we've got a tax code filled with small-time thinking and self-interested politics. What swarms of lobbyists have done, we can undo with a vastly simpler system — clearing out special favors for the few reducing rates for all.\",\n",
       " 'What the IRS, EPA, and entire bureaucracy have done with overregulation, we can undo by act of Congress and order of the President.',\n",
       " 'Federal regulation has gone far past the consent of the governed.',\n",
       " 'It is time to start making rules for the rule-makers.',\n",
       " 'When we get serious about limited government, we can pursue the great and worthy goals that America has gone too long without.',\n",
       " 'We can build our future on solvency instead of borrowed money.',\n",
       " 'We can honor our commitments on the strength of fiscal integrity.',\n",
       " 'With North American resources and American ingenuity, we can finally achieve energy security for this nation — and with Presidential leadership, we can make it happen within five years.',\n",
       " 'If we do all of this, if we do it relentlessly, and if we do it right, we will make the United States of America an economic superpower like no other.',\n",
       " \"We will also challenge the culture that has made lobbying the premier growth industry in the nation's capital.\",\n",
       " 'The rest of the country struggles under big government, while comfortable, complacent interest groups in Washington have been thriving on it.',\n",
       " 'A self-serving attitude can take hold in any capital, just as it once did in Tallahassee.',\n",
       " \"I was a governor who refused to accept that as the normal or right way of conducting the people's business.\",\n",
       " 'I will not accept it as the standard in Washington.',\n",
       " \"We don't need another President who merely holds the top spot among the pampered elites of Washington.\",\n",
       " \"We need a President willing to challenge and disrupt the whole culture in our nation's capital.\",\n",
       " 'I will be that President because I was a reforming governor, not just another member of the club.',\n",
       " \"There's no passing off responsibility when you're a governor, no blending into the legislative crowd or filing an amendment and calling that success.\",\n",
       " 'As our whole nation has learned since 2008, executive experience is another term for preparation, and there is no substitute for that.',\n",
       " 'We are not going to clean up the mess in Washington by electing the people who either helped create it or have proven incapable of fixing it.',\n",
       " 'In government, if we get a few big things right, we can make life better for millions of people, especially for kids in public schools. Think of what we all watched not long ago in Baltimore where so many young adults are walking around with no vision of a life beyond the life they know.',\n",
       " \"It's a tragedy played out over and over and over again.\",\n",
       " 'After we reformed education in Florida, low-income student achievement improved here more than in any other state.',\n",
       " \"We stopped processing kids along as if we didn't care — because we do care, and you don't show that by counting out anyone's child. You give them all a chance.\",\n",
       " \"Here's what I believe.\",\n",
       " 'When a school is just another dead end, every parent should have the right to send their child to a better school — public, private, or charter.',\n",
       " 'Every school should have high standards, and the federal government should have nothing to do with setting them.',\n",
       " 'Nationwide, if I am President, we will take the power of choice away from the unions and bureaucrats and give it back to parents.',\n",
       " \"We made sure of something else in Florida — that children with developmental challenges got schooling and caring attention, just like every other girl and boy. We didn't leave them last in line. We put them first in line because they are not a problem. They are a priority.\",\n",
       " 'That is always our first and best instinct in this nation filled with charitable hearts. Yet these have been rough years for religious charities and their right of conscience. And the leading Democratic candidate recently hinted of more trouble to come.',\n",
       " 'Secretary Clinton insists that when the progressive agenda encounters religious beliefs to the contrary those beliefs, quote, \"have to be changed.\" That\\'s what she said, and I guess we should at least thank her for the warning.',\n",
       " 'The most galling example is the shabby treatment of the Little Sisters of the Poor, a Christian charity that dared to voice objections of conscience to Obamacare. The next President needs to make it clear that great charities like the Little Sisters of the Poor need no federal instruction in doing the right thing.',\n",
       " \"It comes down to a choice between the Little Sisters and Big Brother, and I'm going with the Sisters.\",\n",
       " \"It's still a mystery to me why, in these violent times, the President a few months ago thought it relevant at a prayer breakfast to bring up the Crusades.\",\n",
       " \"Americans don't need lectures on the Middle Ages when we are dealing abroad with modern horrors committed by fanatics.\",\n",
       " 'From the beginning, our President and his foreign-policy team have been so eager to be the history makers that they have failed to be the peacemakers.',\n",
       " 'With their phone-it-in foreign policy, the Obama-Clinton-Kerry team is leaving a legacy of crises uncontained, violence unopposed, enemies unnamed, friends undefended, and alliances unraveling.',\n",
       " 'This supposedly risk-averse administration is also running us straight in the direction of the greatest risk of all - military inferiority.',\n",
       " 'It will go on automatically until a President steps in to rebuild our armed forces and take care of our troops and our veterans.',\n",
       " 'They have my word — I will do it.',\n",
       " 'We keep dependable friends in this world by being dependable ourselves.',\n",
       " 'I will rebuild our vital friendships. That starts by standing with the brave, democratic State of Israel.',\n",
       " 'American-led alliances need rebuilding too, and better judgment is called for in relations far and near.',\n",
       " 'Ninety miles to our south, there is talk of a state visit by our outgoing President.',\n",
       " \"But we don't need a glorified tourist to go to Havana in support of a failed Cuba.\",\n",
       " 'We need an American President to go to Havana in solidarity with a free Cuban people, and I am ready to be that President.',\n",
       " \"Great things like that can really happen. And in this country of ours, the most improbable things can happen. Take that from a guy who met his first President on the day he was born, and his second on the day he was brought home from the hospital. The person who handled both introductions is here today. She's watching what I say — and frankly, with all these reporters around, I'm watching what she says. Please say hello to my wonderful Mom, Barbara Bush.\",\n",
       " \"Long before the world knew my parents' names, I knew I was blessed to be their son.\",\n",
       " \"And they didn't mind at all that I found my own path. It led from Texas to Miami by way of Mexico.\",\n",
       " 'In 1971, 8 years before then-candidate Ronald Reagan said that we should stop thinking of our neighbors as foreigners, I was ahead of my time in cross-border outreach.',\n",
       " 'Across a plaza, I saw a girl.',\n",
       " 'She spoke only a little English. My Spanish was okay but not that great.',\n",
       " 'With some intensive study, we got that barrier out of the way in a hurry.',\n",
       " 'In the short version, it has been a gracious walk through the years with the former Columba Garnica de Gallo.',\n",
       " \"Whatever else I might or might not have going for me, I've got the quiet joy of a man who can say that the most wonderful friend he has in the world is his own wife.\",\n",
       " 'And together, we had the not-so-quiet joy of raising three children who have brought us nothing but happiness and pride: George, Noelle, and Jeb.',\n",
       " 'The boys have also brought us more Bushes — their wives, Mandi and Sandra, and our grandchildren Georgia, Prescott, Vivian, and Jack.',\n",
       " \"Campaigns aren't easy, and they're not supposed to be. And I know that there are good people running for President.\",\n",
       " 'Quite a few, in fact.',\n",
       " \"And not a one of us deserves the job by right of resume, party, seniority, family, or family narrative. It's nobody's turn. It's everybody's test, and it's wide open — exactly as a contest for President should be.\",\n",
       " 'The outcome is entirely up to you - the voters. It is entirely up to me to earn the nomination of my party and then to take our case all across this great and diverse nation.',\n",
       " 'As a candidate, I intend to let everyone hear my message, including the many who can express their love of country in a different language:',\n",
       " 'Ayúdenos en tener una campaña que les da la bienvenida. Trabajen con nosotros por los valores que compartimos y para un gran futuro que es nuestro para construir para nosotros y nuestros hijos.',\n",
       " 'Júntense a nuestra causa de oportunidad para todos, a la causa de todos que aman la libertad y a la causa noble de los Estados Unidos de Amйrica.',\n",
       " 'In any language, my message will be an optimistic one because I am certain that we can make the decades just ahead in America the greatest time ever to be alive in this world.',\n",
       " 'That chance, that hope requires the best that is in us, and I will give it my all.',\n",
       " 'I will campaign as I would serve, going everywhere, speaking to everyone, keeping my word, facing the issues without flinching, and staying true to what I believe.',\n",
       " 'I will take nothing and no one for granted. I will run with heart.',\n",
       " 'I will run to win.',\n",
       " 'It begins here and now.',\n",
       " \"And I'm asking for your vote.\",\n",
       " 'Thank you. God Bless You.']"
      ]
     },
     "execution_count": 34,
     "metadata": {},
     "output_type": "execute_result"
    }
   ],
   "source": [
    "splited_speeches[0].split('\\n')[:-2]"
   ]
  },
  {
   "cell_type": "code",
   "execution_count": null,
   "metadata": {
    "collapsed": true
   },
   "outputs": [],
   "source": []
  }
 ],
 "metadata": {
  "anaconda-cloud": {},
  "kernelspec": {
   "display_name": "Python 3",
   "language": "python",
   "name": "python3"
  },
  "language_info": {
   "codemirror_mode": {
    "name": "ipython",
    "version": 3
   },
   "file_extension": ".py",
   "mimetype": "text/x-python",
   "name": "python",
   "nbconvert_exporter": "python",
   "pygments_lexer": "ipython3",
   "version": "3.6.3"
  }
 },
 "nbformat": 4,
 "nbformat_minor": 1
}
