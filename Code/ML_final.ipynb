{
 "cells": [
  {
   "cell_type": "code",
   "execution_count": 30,
   "metadata": {
    "collapsed": true
   },
   "outputs": [],
   "source": [
    "from selenium import webdriver\n",
    "from selenium.webdriver.common.keys import Keys\n",
    "from selenium.webdriver.common.action_chains import ActionChains\n",
    "from selenium.webdriver.common.by import By\n",
    "from selenium.webdriver.support.ui import WebDriverWait\n",
    "from selenium.webdriver.support import expected_conditions as EC\n",
    "from selenium.common.exceptions import TimeoutException\n",
    "from lxml import html\n",
    "from bs4 import BeautifulSoup, SoupStrainer\n",
    "from selenium.webdriver.support.ui import Select\n",
    "import re\n",
    "import time\n",
    "import os\n",
    "import csv\n",
    "import sys\n",
    "import numpy\n",
    "import string\n",
    "import random"
   ]
  },
  {
   "cell_type": "code",
   "execution_count": 31,
   "metadata": {
    "collapsed": false
   },
   "outputs": [],
   "source": [
    "#from selenium import webdriver\n",
    "#import time\n",
    "\n",
    "\"\"\"Get the browser (a \"driver\").\"\"\"\n",
    "# find the path with 'which chromedriver'\n",
    "path_to_chromedriver = ('/Users/misun/Desktop/chromedriver')\n",
    "browser = webdriver.Chrome(executable_path=path_to_chromedriver)\n",
    "\n",
    "url = \"http://www.presidency.ucsb.edu/index_docs.php\"\n",
    "browser.get(url)\n",
    "#time.sleep(600) "
   ]
  },
  {
   "cell_type": "code",
   "execution_count": 32,
   "metadata": {
    "collapsed": false
   },
   "outputs": [],
   "source": [
    "# 2008 Presidential Election\n",
    "pe_2008 = browser.find_element_by_xpath(\n",
    "    \"/html/body/table/tbody/tr[2]/td/table/tbody/tr/td[2]/table/tbody/tr/td/table/tbody/tr/td/table/tbody/tr/td/ul/li[22]/ul/li[5]/a\")\n",
    "\n",
    "# 2012 Presidential Election\n",
    "pe_2012 = browser.find_element_by_xpath(\n",
    "    \"/html/body/table/tbody/tr[2]/td/table/tbody/tr/td[2]/table/tbody/tr/td/table/tbody/tr/td/table/tbody/tr/td/ul/li[22]/ul/li[6]/a\")\n",
    "\n",
    "# 2016 Presidential Election\n",
    "pe_2016 = browser.find_element_by_xpath(\n",
    "    \"/html/body/table/tbody/tr[2]/td/table/tbody/tr/td[2]/table/tbody/tr/td/table/tbody/tr/td/table/tbody/tr/td/ul/li[22]/ul/li[7]/a\")"
   ]
  },
  {
   "cell_type": "code",
   "execution_count": 33,
   "metadata": {
    "collapsed": true
   },
   "outputs": [],
   "source": [
    "pe_2016.click()"
   ]
  },
  {
   "cell_type": "code",
   "execution_count": 34,
   "metadata": {
    "collapsed": false
   },
   "outputs": [],
   "source": [
    "clinton1 = browser.find_element_by_xpath(\"/html/body/table/tbody/tr[2]/td/table/tbody/tr/td[2]/table/tbody/tr/td/p[1]/table/tbody/tr/td/table/tbody/tr[3]/td[2]/p[2]/a[1]\")\n",
    "clinton1.click()"
   ]
  },
  {
   "cell_type": "code",
   "execution_count": null,
   "metadata": {
    "collapsed": true
   },
   "outputs": [],
   "source": [
    "browser.back()"
   ]
  },
  {
   "cell_type": "code",
   "execution_count": 16,
   "metadata": {
    "collapsed": false
   },
   "outputs": [],
   "source": [
    "path_one = \"/html/body/table/tbody/tr[2]/td/table/tbody/tr/td[2]/table/tbody/tr[\"\n",
    "path_two = \"]/td[3]/a\"\n",
    "path_one+str(2)+path_two\n",
    "ele = browser.find_element_by_xpath(path_one+str(2)+path_two)"
   ]
  },
  {
   "cell_type": "code",
   "execution_count": 17,
   "metadata": {
    "collapsed": true
   },
   "outputs": [],
   "source": [
    "ele.click()"
   ]
  },
  {
   "cell_type": "code",
   "execution_count": 98,
   "metadata": {
    "collapsed": true
   },
   "outputs": [],
   "source": [
    "browser.find_element_by_xpath('/html/body/table/tbody/tr[2]/td/table/tbody/tr/td[2]/table/tbody/tr/td/p[1]/table/tbody/tr/td/table/tbody/tr[9]/td[2]/p[2]/a[1]').click()"
   ]
  },
  {
   "cell_type": "code",
   "execution_count": null,
   "metadata": {
    "collapsed": true
   },
   "outputs": [],
   "source": [
    "#ls = [xpathes for speeches of candidates]\n",
    "pathls=['3', '7', '9', '11', '13', '17', '21', '23', '25', '27', '29', '31', '33', '35', '37', '39',\n",
    "       '41', '43', '45', '47', '49']\n",
    "for i in pathls :\n",
    "    path = '/html/body/table/tbody/tr[2]/td/table/tbody/tr/td[2]/table/tbody/tr/td/p[1]/table/tbody/tr/td/table/tbody/tr['+i+']/td[2]/p[2]/a[1]'\n",
    "    #print(path)\n",
    "    cand_ele = browser.find_element_by_xpath(path)\n",
    "    cand_ele.click()\n",
    "    \n",
    "    #Create text file\n",
    "    candidatename = browser.find_element_by_xpath('//td[@class = \"listdate\"]').text\n",
    "    campaign = \"campaign\" + candidatename +'.txt'\n",
    "\n",
    "\n",
    "    # This loops over project searches and copy/pastes the html:\n",
    "    with open(campaign, 'w') as txt_file:\n",
    "\n",
    "        row_num = len(browser.find_elements_by_xpath(\"/html/body/table/tbody/tr[2]/td/table/tbody/tr/td[2]/table/tbody/tr\"))\n",
    "\n",
    "        for i in range(2, row_num):\n",
    "            print(i)\n",
    "            path_one = \"/html/body/table/tbody/tr[2]/td/table/tbody/tr/td[2]/table/tbody/tr[\"\n",
    "            path_two = \"]/td[3]/a\"\n",
    "            ele = browser.find_element_by_xpath(path_one+str(i)+path_two)\n",
    "            ele.click()\n",
    "\n",
    "            # title \n",
    "            #title = browser.find_element_by_xpath(\"//meta[@name='title']\").get_attribute(\"content\")\n",
    "            title = browser.find_element_by_xpath('.//span[@class = \"paperstitle\"]').text\n",
    "            docdate = browser.find_element_by_xpath('.//span[@class = \"docdate\"]').text\n",
    "            \n",
    "            txt_file.write(\"%s\\n\" % title)\n",
    "            txt_file.write(\"\\n\")\n",
    "            txt_file.write(\"%s\\n\" % docdate)\n",
    "            txt_file.write(\"\\n\")            \n",
    "            txt_file.write(\"%s\\n\" % textbody)\n",
    "            txt_file.write(\"\\n\\n\")\n",
    "\n",
    "            time.sleep(3)\n",
    "\n",
    "            browser.back()\n",
    "        \n",
    "        txt_file.close()\n",
    "    \n",
    "    browser.back()\n",
    "   "
   ]
  },
  {
   "cell_type": "code",
   "execution_count": 100,
   "metadata": {
    "collapsed": false
   },
   "outputs": [],
   "source": [
    "#browser.find_element_by_xpath('/html/body/table/tbody/tr[2]/td/table/tbody/tr/td[2]/table/tbody/tr[28]/td[3]/a').click()\n",
    "#/html/body/table/tbody/tr[2]/td/table/tbody/tr/td[2]/table/tbody/tr[27]/td[3]/a\n",
    "#'/html/body/table/tbody/tr[2]/td/table/tbody/tr/td[2]/table/tbody/tr[2]/td[3]/a'\n",
    "#/html/body/table/tbody/tr[2]/td/table/tbody/tr/td[2]/table/tbody/tr[2]/td[3]/a"
   ]
  },
  {
   "cell_type": "code",
   "execution_count": 96,
   "metadata": {
    "collapsed": false
   },
   "outputs": [],
   "source": [
    "#type(browser.find_element_by_xpath('//td[@class = \"listdate\"]').text)"
   ]
  },
  {
   "cell_type": "code",
   "execution_count": 55,
   "metadata": {
    "collapsed": false
   },
   "outputs": [
    {
     "data": {
      "text/plain": [
       "'Hillary Clinton: Video Transcript: Presidential Exploratory Committee Announcement - January 20, 2007'"
      ]
     },
     "execution_count": 55,
     "metadata": {},
     "output_type": "execute_result"
    }
   ],
   "source": [
    "browser.find_element_by_xpath(\"//meta[@name='title']\").get_attribute(\"content\")"
   ]
  },
  {
   "cell_type": "code",
   "execution_count": null,
   "metadata": {
    "collapsed": true
   },
   "outputs": [],
   "source": [
    "#<span class=\"paperstitle\">Remarks at the George Washington University on Reducing the Cost of Health Care</span>"
   ]
  },
  {
   "cell_type": "code",
   "execution_count": 54,
   "metadata": {
    "collapsed": false
   },
   "outputs": [
    {
     "data": {
      "text/plain": [
       "'Video Transcript: Presidential Exploratory Committee Announcement'"
      ]
     },
     "execution_count": 54,
     "metadata": {},
     "output_type": "execute_result"
    }
   ],
   "source": [
    "browser.find_element_by_xpath('.//span[@class = \"paperstitle\"]').text"
   ]
  },
  {
   "cell_type": "code",
   "execution_count": 56,
   "metadata": {
    "collapsed": false
   },
   "outputs": [
    {
     "data": {
      "text/plain": [
       "'January 20, 2007'"
      ]
     },
     "execution_count": 56,
     "metadata": {},
     "output_type": "execute_result"
    }
   ],
   "source": [
    "browser.find_element_by_xpath('.//span[@class = \"docdate\"]').text"
   ]
  },
  {
   "cell_type": "code",
   "execution_count": 52,
   "metadata": {
    "collapsed": false
   },
   "outputs": [
    {
     "data": {
      "text/plain": [
       "'HILLARY CLINTON: I announced today that I am forming a presidential exploratory committee.\\nI\\'m not just starting a campaign, though, I\\'m beginning a conversation -- with you, with America. Because we all need to be part of the discussion if we\\'re all going to be part of the solution. And all of us have to be part of the solution.\\nLet\\'s talk about how to bring the right end to the war in Iraq and to restore respect for America around the world.\\nHow to make us energy independent and free of foreign oil.\\nHow to end the deficits that threaten Social Security and Medicare.\\nAnd let\\'s definitely talk about how every American can have quality affordable health care.\\nYou know, after six years of George Bush, it is time to renew the promise of America. Our basic bargain that no matter who you are or where you live, if you work hard and play by the rules, you can build a good life for yourself and your family.\\nI grew up in a middle-class family in the middle of America, and we believed in that promise.\\nI still do. I\\'ve spent my entire life trying to make good on it.\\nWhether it was fighting for women\\'s basic rights or childrens\\' basic health care. Protecting our Social Security, or protecting our soldiers. It\\'s a kind of basic bargain, and we\\'ve got to keep up our end.\\nSo let\\'s talk. Let\\'s chat. Let\\'s start a dialogue about your ideas and mine.\\nBecause the conversation in Washington has been just just a little one-sided lately, don\\'t you think? And we can all see how well that works.\\nAnd while I can\\'t visit everyone\\'s living room, I can try. And with a little help from modern technology, I\\'ll be holding live online video chats this week, starting Monday.\\nSo let the conversation begin. I have a feeling it\\'s going to be very interesting.\\nTEXT: HillaryClinton.com\\nPaid for by Friends of Hillary Exploratory Committee.\\nCitation: Hillary Clinton: \"Video Transcript: Presidential Exploratory Committee Announcement,\" January 20, 2007. Online by Gerhard Peters and John T. Woolley, The American Presidency Project. http://www.presidency.ucsb.edu/ws/?pid=96348.'"
      ]
     },
     "execution_count": 52,
     "metadata": {},
     "output_type": "execute_result"
    }
   ],
   "source": [
    "browser.find_element_by_xpath('.//span[@class = \"displaytext\"]').text"
   ]
  },
  {
   "cell_type": "code",
   "execution_count": 7,
   "metadata": {
    "collapsed": false
   },
   "outputs": [
    {
     "data": {
      "text/plain": [
       "'HILLARY CLINTON: I announced today that I am forming a presidential exploratory committee.\\nI\\'m not just starting a campaign, though, I\\'m beginning a conversation -- with you, with America. Because we all need to be part of the discussion if we\\'re all going to be part of the solution. And all of us have to be part of the solution.\\nLet\\'s talk about how to bring the right end to the war in Iraq and to restore respect for America around the world.\\nHow to make us energy independent and free of foreign oil.\\nHow to end the deficits that threaten Social Security and Medicare.\\nAnd let\\'s definitely talk about how every American can have quality affordable health care.\\nYou know, after six years of George Bush, it is time to renew the promise of America. Our basic bargain that no matter who you are or where you live, if you work hard and play by the rules, you can build a good life for yourself and your family.\\nI grew up in a middle-class family in the middle of America, and we believed in that promise.\\nI still do. I\\'ve spent my entire life trying to make good on it.\\nWhether it was fighting for women\\'s basic rights or childrens\\' basic health care. Protecting our Social Security, or protecting our soldiers. It\\'s a kind of basic bargain, and we\\'ve got to keep up our end.\\nSo let\\'s talk. Let\\'s chat. Let\\'s start a dialogue about your ideas and mine.\\nBecause the conversation in Washington has been just just a little one-sided lately, don\\'t you think? And we can all see how well that works.\\nAnd while I can\\'t visit everyone\\'s living room, I can try. And with a little help from modern technology, I\\'ll be holding live online video chats this week, starting Monday.\\nSo let the conversation begin. I have a feeling it\\'s going to be very interesting.\\nTEXT: HillaryClinton.com\\nPaid for by Friends of Hillary Exploratory Committee.\\nCitation: Hillary Clinton: \"Video Transcript: Presidential Exploratory Committee Announcement,\" January 20, 2007. Online by Gerhard Peters and John T. Woolley, The American Presidency Project. http://www.presidency.ucsb.edu/ws/?pid=96348.'"
      ]
     },
     "execution_count": 7,
     "metadata": {},
     "output_type": "execute_result"
    }
   ],
   "source": [
    "browser.find_element_by_xpath('.//span[@class = \"displaytext\"]').text"
   ]
  },
  {
   "cell_type": "code",
   "execution_count": 77,
   "metadata": {
    "collapsed": false
   },
   "outputs": [],
   "source": [
    "browser.find"
   ]
  },
  {
   "cell_type": "code",
   "execution_count": 100,
   "metadata": {
    "collapsed": false
   },
   "outputs": [],
   "source": [
    "#browser.find_elements_by_tag_name(\"title\")[0]"
   ]
  },
  {
   "cell_type": "code",
   "execution_count": 94,
   "metadata": {
    "collapsed": false
   },
   "outputs": [
    {
     "data": {
      "text/plain": [
       "'Hillary Clinton: Remarks at the University of Pittsburgh - November 7, 2016'"
      ]
     },
     "execution_count": 94,
     "metadata": {},
     "output_type": "execute_result"
    }
   ],
   "source": [
    "browser.find_element_by_xpath(\"//meta[@name='title']\").get_attribute(\"content\")"
   ]
  },
  {
   "cell_type": "code",
   "execution_count": 94,
   "metadata": {
    "collapsed": false
   },
   "outputs": [
    {
     "data": {
      "text/plain": [
       "'Hillary Clinton'"
      ]
     },
     "execution_count": 94,
     "metadata": {},
     "output_type": "execute_result"
    }
   ],
   "source": [
    "browser.find_element_by_xpath('//td[@class = \"listdate\"]').text"
   ]
  },
  {
   "cell_type": "code",
   "execution_count": 27,
   "metadata": {
    "collapsed": false
   },
   "outputs": [
    {
     "data": {
      "text/plain": [
       "249"
      ]
     },
     "execution_count": 27,
     "metadata": {},
     "output_type": "execute_result"
    }
   ],
   "source": [
    "#browser.execute_script(\"return document.getElementsByTagName('tr').length\")"
   ]
  },
  {
   "cell_type": "code",
   "execution_count": 72,
   "metadata": {
    "collapsed": true
   },
   "outputs": [],
   "source": [
    "#/html/body/table/tbody/tr[2]/td/table/tbody/tr/td[2]/table/tbody/tr[\"+str(clinton)+\"]/td[3]/a"
   ]
  },
  {
   "cell_type": "code",
   "execution_count": 86,
   "metadata": {
    "collapsed": false
   },
   "outputs": [
    {
     "data": {
      "text/plain": [
       "24"
      ]
     },
     "execution_count": 86,
     "metadata": {},
     "output_type": "execute_result"
    }
   ],
   "source": [
    "len(browser.find_elements_by_xpath(\"/html/body/table/tbody/tr/td/table/tbody/tr/td/table/tbody/tr/td\"))\n",
    "#/html/body/table/tbody/tr[2]/td/table/tbody/tr/td[2]/table/tbody/\n",
    "#browser.find_elements_by_xpath(\"/html/body/table/tbody/tr/td/table/tbody/tr/td/table/tbody/tr/td[1]\")[5].text"
   ]
  },
  {
   "cell_type": "code",
   "execution_count": 118,
   "metadata": {
    "collapsed": false,
    "scrolled": false
   },
   "outputs": [],
   "source": [
    "# items = browser.find_elements_by_tag_name(\"li\")\n",
    "# #browser.find_element_by_class_name(\"doctitle\")\n",
    "# for item in items:\n",
    "#     #item.click()\n",
    "#     if 'Presidential Elections' in item.text:\n",
    "#         print(item.text)\n",
    "#         #item.click()"
   ]
  },
  {
   "cell_type": "code",
   "execution_count": 29,
   "metadata": {
    "collapsed": false
   },
   "outputs": [],
   "source": [
    "#browser.find_element_by_class_name(\"doctitle\")\n",
    "#items = browser.find_elements_by_xpath(\"//ul[@id = 'doctitle']//li[not(@class)]\")\n",
    "#for item in items:\n",
    "    #item.click()\n",
    "#    print(item)"
   ]
  },
  {
   "cell_type": "code",
   "execution_count": 37,
   "metadata": {
    "collapsed": false
   },
   "outputs": [],
   "source": [
    "#browser.find_elements_by_link_text(\"doc\")"
   ]
  },
  {
   "cell_type": "code",
   "execution_count": 116,
   "metadata": {
    "collapsed": false
   },
   "outputs": [],
   "source": [
    "# items = browser.find_elements_by_tag_name(\"li\")\n",
    "# #browser.find_element_by_class_name(\"doctitle\")\n",
    "# for item in items:\n",
    "#     #item.click()\n",
    "#     #if 'Presidential Elections' in item.text:\n",
    "#     #print(item)\n",
    "#     #print(item.text)\n",
    "#     items[23].click()"
   ]
  },
  {
   "cell_type": "code",
   "execution_count": 117,
   "metadata": {
    "collapsed": false
   },
   "outputs": [],
   "source": [
    "# frame = browser.find_element_by_id('li')\n",
    "# browser.switch_to.frame(frame)"
   ]
  },
  {
   "cell_type": "code",
   "execution_count": null,
   "metadata": {
    "collapsed": true
   },
   "outputs": [],
   "source": [
    "# 2012 Presidential Election\n",
    "pe_2012 = browser.find_element_by_link_text(\"2012 Election\")\n",
    "\n",
    "# 2016 Presidential Election\n",
    "pe_2016 = browser.find_element_by_link_text(\"2016 Election\")\n",
    "\n",
    "pe_2016.click()\n",
    "\n",
    "candidates = browser.find_element_by_link_text(\"campaign speeches\")\n",
    "\n",
    "for i in range(len(candidates)):\n",
    "    candidates[i].click()\n",
    "    time.sleep(5)\n",
    "\n",
    "    speeches = browser.find_elements_by_css_selector(\"td.listdate > a\")\n",
    "    speeche_count = len(linkls)\n",
    "\n",
    "    #// Begin click each speech link of one candidate\n",
    "\n",
    "    try:\n",
    "\n",
    "        for j in range(speeche_count):\n",
    "            #// click on one speeche link\n",
    "            speeches[j].click()\n",
    "            time.sleep(5)\n",
    "            #// back to previous page\n",
    "            browser.back()\n",
    "            time.sleep(5)\n",
    "\n",
    "            #// find speeches again to avoid StaleReferenceException\n",
    "            speeches = browser.find_elements_by_css_selector(\"td.listdate > a\")\n",
    "\n",
    "    except Exception as e:\n",
    "        print(e)\n",
    "\n",
    "    #// End click each speech link of one candidate\n",
    "\n",
    "    #// back to candidates list page to enter next candidate speech list page\n",
    "    browser.back()\n",
    "    time.sleep(5)\n",
    "\n",
    "    #// find candidates again to avoid StaleReferenceException\n",
    "    candidates = browser.find_element_by_link_text(\"campaign speeches\")"
   ]
  }
 ],
 "metadata": {
  "anaconda-cloud": {},
  "kernelspec": {
   "display_name": "Python [default]",
   "language": "python",
   "name": "python3"
  },
  "language_info": {
   "codemirror_mode": {
    "name": "ipython",
    "version": 3
   },
   "file_extension": ".py",
   "mimetype": "text/x-python",
   "name": "python",
   "nbconvert_exporter": "python",
   "pygments_lexer": "ipython3",
   "version": "3.5.2"
  }
 },
 "nbformat": 4,
 "nbformat_minor": 1
}
